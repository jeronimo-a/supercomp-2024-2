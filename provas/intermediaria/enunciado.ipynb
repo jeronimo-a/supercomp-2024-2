{
  "nbformat": 4,
  "nbformat_minor": 0,
  "metadata": {
    "colab": {
      "provenance": []
    },
    "kernelspec": {
      "name": "python3",
      "display_name": "Python 3"
    },
    "language_info": {
      "name": "python"
    }
  },
  "cells": [
    {
      "cell_type": "markdown",
      "source": [
        "# Insper\n",
        "\n",
        "## Supercomputação - Avaliação Intermediária - 2º semestre de 2024\n",
        "\n",
        "#### SEU NOME: _____________________________________________\n",
        "\n",
        "**Regras da prova**:\n",
        "\n",
        "SOBRE HORÁRIOS:\n",
        "- A prova estará liberada no Blackboard das 07h30 às 23h59 de 01/outubro/2024 (horário de Brasília);\n",
        "- A prova tem duração aproximada de 03 horas (180 minutos);\n",
        "- O aluno poderá realizar a prova ao longo do dia, no(s) horário(s) e espaço(s) de tempo que melhor lhe convier. Ao iniciar a prova você não precisará ficar 3 horas seguidas na sua realização;\n",
        "\n",
        "SOBRE DÚVIDAS:\n",
        "- O professor NÃO estará disponível fisicamente no Insper. O aluno que quiser tirar dúvidas, poderá fazê-lo via grupo de WhatsApp da prova. O link é: https://chat.whatsapp.com/IcnoFr2LkON1iYltj9SgDY\n",
        "\n",
        "SOBRE SUBMISSÕES DA PROVA E DO PROJETO:\n",
        "- A submissão da prova deve ser feita impreterivelmente até às 23h59 de 01/outubro/2024 (horário de Brasília). NÃO serão aceitas submissões após este horário;\n",
        "- O aluno poderá fazer múltiplas submissões da prova. O sistema considerará a última submissão como oficial;\n",
        "- A submissão da prova pode ser a resolução no jupyter notebook exportado no Colab ou ZIP com arquivos “.cpp” devidamente sinalizados (a qual questão se referenciam);\n",
        "\n",
        "SOBRE A RESOLUÇÃO DA PROVA:\n",
        "- A interpretação do enunciado faz parte da avaliação;\n",
        "- É permitida a consulta ao material da disciplina (tudo o que estiver no repositório do Github da disciplina e no site https://liciascl.github.io/supercomp/. Isso também inclui suas próprias soluções aos exercícios de sala de aula, mas não inclui materiais não digitais, tampouco outros materiais além dos citados;\n",
        "- É permitido consultar a documentação de C++ nos sites oficiais e links extras dos próprios enunciados;\n",
        "- Seu pseudocódigo deve ser feito em Português, incluindo nomes de variáveis e comentários;\n",
        "\n",
        "\n",
        "SOBRE QUESTÕES DE ÉTICA E PLÁGIO:\n",
        "- A prova é individual. Qualquer consulta a outras pessoas durante a prova constitui violação do código de ética do Insper;\n",
        "- Qualquer tentativa de fraude, como trechos idênticos ou muito similares, implicará em NOTA ZERO na prova a todos os envolvidos, sem prejuízo de outras sanções;\n",
        "- Uso de Copilot ou ChatGPT ou correlatos para resolução pode implicar trechos similares entre alunos, caindo no item acima. Cuidado!\n",
        "\n",
        "**_Boa prova!_**\n"
      ],
      "metadata": {
        "id": "YCrALvzjFdss"
      }
    },
    {
      "cell_type": "markdown",
      "source": [
        "# [2,0 pontos] Questão 01 - Problema do Subconjunto de Soma\n",
        "\n",
        "**Contexto:**\n",
        "\n",
        "O Problema do Subconjunto de Soma é um desafio clássico em ciência da computação e matemática, que se enquadra na categoria de problemas NP-Completo. Ele questiona se, dado um conjunto de números inteiros e um valor alvo, existe um subconjunto desses números cuja soma é igual ao valor alvo. Apesar de sua simplicidade conceitual, resolver este problema pode se tornar computacionalmente intensivo à medida que o tamanho do conjunto aumenta, tornando abordagens exaustivas impraticáveis para grandes conjuntos. Portanto, heurísticas e métodos aproximados se tornam ferramentas valiosas para encontrar soluções em tempo razoável.\n",
        "\n",
        "**Questão:**\n",
        "\n",
        "Considere um conjunto \\( S = \\{s_1, s_2, ..., s_n\\} \\) de números inteiros positivos e um valor alvo \\( T \\). Seu objetivo é desenvolver uma heurística para determinar se existe um subconjunto de \\( S \\) cuja soma é igual a \\( T \\). Sua solução não precisa ser ótima, mas deve ser capaz de encontrar uma resposta em um tempo razoável, mesmo para grandes valores de \\( n \\).\n",
        "\n",
        "Para atingir este objetivo, você deve implementar o seguinte algoritmo heurístico em C++:\n",
        "\n",
        "1. **Pré-processamento:** Ordene os números em \\( S \\) em ordem decrescente. Este passo visa a maximizar a eficiência da sua heurística, permitindo que grandes somas sejam alcançadas rapidamente, potencialmente aproximando-se de \\( T \\) mais rapidamente.\n",
        "\n",
        "2. **Heurística de Aproximação:** Implemente uma função que percorra os números em \\( S \\) na ordem definida. Para cada número \\( s_i \\), decida se deve ou não incluí-lo no subconjunto candidato com base em uma regra heurística simples.\n",
        "\n",
        "3. **Verificação e Saída:** Se, ao final do processo, a soma dos números no subconjunto candidato for igual a \\( T \\), sua função deve retornar `true`, indicando que uma solução foi encontrada. Caso contrário, retorne `false`.\n",
        "\n",
        "**Pede-se**:\n",
        "1. Implemente o algoritmo heurístico descrito acima em C++. (entregue o código)\n",
        "2. Faça cenários de teste e comprove a corretude da sua solução.  \n",
        "3. Discuta a eficácia da sua heurística. Em que cenários ela pode falhar em encontrar um subconjunto existente que some \\( T \\)? (entregue sua resposta justificada)\n",
        "\n",
        "\n",
        "**DICA**:\n",
        "\n",
        "Uma possível assinatura da sua função é:\n",
        "```cpp\n",
        "bool subsetSum(const vector<int>& set, int sum);\n",
        "```\n",
        "\n",
        "\n",
        "\n"
      ],
      "metadata": {
        "id": "b9WD4WL9-TCc"
      }
    },
    {
      "cell_type": "code",
      "source": [],
      "metadata": {
        "id": "OYSlHS46KNve"
      },
      "execution_count": null,
      "outputs": []
    },
    {
      "cell_type": "code",
      "source": [],
      "metadata": {
        "id": "4-m4RfnfKNyC"
      },
      "execution_count": null,
      "outputs": []
    },
    {
      "cell_type": "code",
      "source": [],
      "metadata": {
        "id": "WLPOXHoDTfdU"
      },
      "execution_count": null,
      "outputs": []
    },
    {
      "cell_type": "markdown",
      "source": [
        "# [2,0 pontos] Questão 02 - Solução Ótima\n",
        "\n",
        "A solução ótima do problema anterior é verificar todos os subconjuntos possíveis dos números de ( S ), calcular a soma de cada um deles e verificar se alguma destas soma é igual ao valor buscado. Essa solução, embora simples, pode não escalar bem para grandes entradas.\n",
        "\n",
        "\n",
        "**Pede-se**:\n",
        "1. Escreva o código da solução ótima em C++ (você pode usar recursão ou não)\n",
        ";\n",
        "2. Gere a solução para 10 entradas distintas em ordens de grandeza diferentes (algumas entradas pequenas, algumas médias, algumas grandes);\n",
        "3. Compare o tempo de execução deste código nas 10 entradas. O comportamento está alinhado com o esperado? Justifique.\n"
      ],
      "metadata": {
        "id": "d9jNw4n4-TFd"
      }
    },
    {
      "cell_type": "code",
      "source": [],
      "metadata": {
        "id": "CgilWhpOhUUk"
      },
      "execution_count": null,
      "outputs": []
    },
    {
      "cell_type": "code",
      "source": [],
      "metadata": {
        "id": "kqUOVatIhUht"
      },
      "execution_count": null,
      "outputs": []
    },
    {
      "cell_type": "code",
      "source": [],
      "metadata": {
        "id": "xoRhqCGPhUmv"
      },
      "execution_count": null,
      "outputs": []
    },
    {
      "cell_type": "markdown",
      "source": [
        "# [1,5 ponto] Questão 03 - Aleatorização\n",
        "\n",
        "Em sala de aula, nós implementamos diversas estratégias para a mochila\n",
        "binária. Explique a importância de buscar um balanço entre _exploration_ e _exploitation_. Dê um exemplo de como buscamos atingir _exploration_ e outro de como buscamos atingir _exploitation_ no Problema do Subconjunto de Soma. Elabore um pseudocódigo que combine tais estratégias e avalie criticamente sua efetividade."
      ],
      "metadata": {
        "id": "lxumkH8xhU0d"
      }
    },
    {
      "cell_type": "code",
      "source": [],
      "metadata": {
        "id": "zzPgLSAXhWqT"
      },
      "execution_count": null,
      "outputs": []
    },
    {
      "cell_type": "code",
      "source": [],
      "metadata": {
        "id": "8TL5WC_XhfSr"
      },
      "execution_count": null,
      "outputs": []
    },
    {
      "cell_type": "code",
      "source": [],
      "metadata": {
        "id": "DjxaXZxjqLtE"
      },
      "execution_count": null,
      "outputs": []
    },
    {
      "cell_type": "markdown",
      "source": [
        "# [2,0  pontos] Questão 04 - GPU e Thrust\n",
        "\n",
        "1.\tAcesse o link abaixo e faça uma cópia no seu Google Drive: https://colab.research.google.com/drive/14_EZNglXn2VXe3kpDW3XgEsRkB6R1jjp?usp=sharing\n",
        "2.\tComplete o código seguindo a especificação. ATENÇÃO: você provavelmente precisará complementar os imports para o código rodar!\n",
        "3.\tBaixe sua cópia do notebook preenchido e executado, e disponibilize junto com sua solução.\n",
        "\n",
        "_OBSERVAÇÃO_: recomendo o uso do Colab na realização da questão de GPU. Use implementação e teste local por conta e risco. =)\n"
      ],
      "metadata": {
        "id": "hP79VcwHNsOu"
      }
    },
    {
      "cell_type": "code",
      "source": [],
      "metadata": {
        "id": "y9hkglWLOacA"
      },
      "execution_count": null,
      "outputs": []
    },
    {
      "cell_type": "code",
      "source": [],
      "metadata": {
        "id": "kY7eeO48OaiI"
      },
      "execution_count": null,
      "outputs": []
    },
    {
      "cell_type": "code",
      "source": [],
      "metadata": {
        "id": "9bCumk5fOaoB"
      },
      "execution_count": null,
      "outputs": []
    },
    {
      "cell_type": "markdown",
      "source": [
        "# [1,5 pontos] Questão 05 - Busca global\n",
        "\n",
        "Um algoritmo de busca global, em termos gerais, é um algoritmo de otimização que procura encontrar a melhor solução possível para um problema dentro de um espaço de busca, considerando todas as possíveis soluções. Em outras palavras, ele tenta encontrar o máximo ou mínimo global de uma função objetivo em um domínio especificado.\n",
        "\n",
        "Em alguns problemas a \"busca global\" não se trata de uma otimização, mas de encontrar a única resposta correta possível. Por exemplo, o cálculo de Fibonacci é algoritmo que dado um número `N`, o `fib(N)` assume apenas um valor correto.\n",
        "\n",
        "Observe o código abaixo para cálculo do Fibonacci. Altere o programa para receber `N` como uma entrada, e rode o programa para alguns valores de N, tanto pequenos (abaixo de 30) quanto grandes (acima de 30 --- só não exagere!), comparando os tempos de execução.  \n",
        "\n",
        "Código-fonte:\n",
        "\n",
        "```cpp\n",
        "#include <iostream>\n",
        "\n",
        "int fib(int n) {\n",
        "    if (n <= 1) {\n",
        "        return n;\n",
        "    } else {\n",
        "        return fib(n - 1) + fib(n - 2);\n",
        "    }\n",
        "}\n",
        "\n",
        "int main() {\n",
        "    int n = 30; // Valor de n para calcular Fibonacci\n",
        "    int result = fib(n);\n",
        "    std::cout << \"Fibonacci de \" << n << \" é \" << result << std::endl;\n",
        "    return 0;\n",
        "}\n",
        "```\n",
        "\n",
        "Note que tempo de execução para esta implementação aumenta consideravelmente quando `N` cresce.\n",
        "\n",
        "**Pede-se**: Implemente  uma otimização para esse algoritmo de modo que sua implementação seja pela abordagem de memorização (*memoization*), ou seja, salvar cálculos já realizados para reaproveitá-los. Apresente código-fonte, resultados e compare os resultados de tempo de execução obtidos."
      ],
      "metadata": {
        "id": "Qa7y2wJn-zXz"
      }
    },
    {
      "cell_type": "code",
      "source": [],
      "metadata": {
        "id": "AaLQhYW_hi2j"
      },
      "execution_count": null,
      "outputs": []
    },
    {
      "cell_type": "code",
      "source": [],
      "metadata": {
        "id": "9v7FlTythi6j"
      },
      "execution_count": null,
      "outputs": []
    },
    {
      "cell_type": "code",
      "source": [],
      "metadata": {
        "id": "tioVOtYkfd11"
      },
      "execution_count": null,
      "outputs": []
    },
    {
      "cell_type": "markdown",
      "source": [
        "# [1.0 ponto] Questão 06 - Uso de Cluster em Supercomputação\n",
        "\n",
        "Esta disciplina estuda estratégias para resolver problemas complexos em tempo computacionalmente razoável.\n",
        "\n",
        "**Pede-se**:\n",
        "1. Qual é a importância de aliar estratégias de implementação (Software) com recursos computacionais disponíveis (Hardware) para melhor endereçamento do problema?\n",
        "2. Defina o que é Slurm e sua importância na programação paralela em larga escala.\n",
        "3. Considerando o job configurado pelo \".slurm\" abaixo, descreva quais recursos computacionais estão sendo solicitados ao Cluster, as limitações e condições de execução.\n",
        "\n",
        "```\n",
        "#!/bin/bash\n",
        "#SBATCH --job-name=job_paralelo\n",
        "#SBATCH --nodes=4\n",
        "#SBATCH --ntasks-per-node=8\n",
        "#SBATCH --time=02:00:00\n",
        "#SBATCH --partition=compute\n",
        "#SBATCH --output=resultado.out\n",
        "#SBATCH --error=erro.err\n",
        "\n",
        "# Carregar módulos necessários\n",
        "module load mpi\n",
        "\n",
        "# Executar o programa paralelo\n",
        "mpirun -np 32 ./meu_programa_paralelo\n",
        "```\n",
        "\n"
      ],
      "metadata": {
        "id": "k7bbxYasZHhF"
      }
    },
    {
      "cell_type": "code",
      "source": [],
      "metadata": {
        "id": "XuctGF5PZ-5H"
      },
      "execution_count": null,
      "outputs": []
    },
    {
      "cell_type": "code",
      "source": [],
      "metadata": {
        "id": "1UVijkXLei3u"
      },
      "execution_count": null,
      "outputs": []
    },
    {
      "cell_type": "code",
      "source": [],
      "metadata": {
        "id": "cyL3ilpkei6V"
      },
      "execution_count": null,
      "outputs": []
    }
  ]
}