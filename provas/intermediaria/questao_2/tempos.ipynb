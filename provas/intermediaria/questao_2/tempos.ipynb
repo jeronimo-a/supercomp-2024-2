{
 "cells": [
  {
   "cell_type": "code",
   "execution_count": 1,
   "metadata": {},
   "outputs": [],
   "source": [
    "from matplotlib import pyplot as plt"
   ]
  },
  {
   "cell_type": "code",
   "execution_count": 2,
   "metadata": {},
   "outputs": [
    {
     "data": {
      "text/plain": [
       "[0, 1, 2, 3, 4, 5, 6, 7, 8, 9, 10, 11, 12, 13, 14, 15, 16, 17, 18, 19]"
      ]
     },
     "execution_count": 2,
     "metadata": {},
     "output_type": "execute_result"
    }
   ],
   "source": [
    "entradas = list(range(26))\n",
    "tempos = [0, 1.749e-6, 3.392e-6, 8.4e-6, 1.4934e-5, 2.1841e-5, 6.299e-5, 1.21361e-4, 2.77602e-4, 5.67117e-4, 1.73488e-3, 3.25542e-3, 4.66938e-3, 1.14431e-2, 3.19431e-2, 6.42578e-2, 1.31715e-1, 2.57922e-1, 6.27743e-1, 1.21747, 2.09419], "
   ]
  },
  {
   "cell_type": "code",
   "execution_count": null,
   "metadata": {},
   "outputs": [],
   "source": []
  }
 ],
 "metadata": {
  "kernelspec": {
   "display_name": "base",
   "language": "python",
   "name": "python3"
  },
  "language_info": {
   "codemirror_mode": {
    "name": "ipython",
    "version": 3
   },
   "file_extension": ".py",
   "mimetype": "text/x-python",
   "name": "python",
   "nbconvert_exporter": "python",
   "pygments_lexer": "ipython3",
   "version": "3.10.12"
  }
 },
 "nbformat": 4,
 "nbformat_minor": 2
}
